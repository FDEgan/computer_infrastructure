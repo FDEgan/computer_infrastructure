{
 "cells": [
  {
   "cell_type": "markdown",
   "metadata": {},
   "source": [
    "<h2 align=\"center\">Task One - Create Directory Structure</h1><a name=\"task-one\"></a>\n",
    "<p align=\"center\">\n",
    "  <img src=\"https://htmlandcssguidebook.com/images/subfolder.png\" alt=\"Banking\">\n",
    "</p>"
   ]
  },
  {
   "cell_type": "markdown",
   "metadata": {},
   "source": [
    "### Task\n",
    "Using the command line, create a directory (that is, a folder) named data at the root of your repository. Inside data, create two subdirectories: timestamps and weather."
   ]
  },
  {
   "cell_type": "markdown",
   "metadata": {},
   "source": [
    "### Files Created\n",
    "\n",
    "**Parent Directory** - data <br>\n",
    "**Sub-Directories** -  timestamp & weather"
   ]
  },
  {
   "cell_type": "markdown",
   "metadata": {},
   "source": [
    "### Inputs\n",
    "To create the parent directory for data I used the below code:<br>"
   ]
  },
  {
   "cell_type": "markdown",
   "metadata": {},
   "source": [
    "#### Task 1 - Input - Data Directory\n",
    "![Task 1 - Input A](https://github.com/user-attachments/assets/9d6700f6-6a91-4634-b878-badcadfe1298)"
   ]
  },
  {
   "cell_type": "markdown",
   "metadata": {},
   "source": [
    "To create the sub-directorie for weather and timestamps I used the below code:<br>\n",
    "\n",
    "#### Task 1 - Input - Timestamp & Weather Sub-Directory\n",
    "![Task 1 - Input B](https://github.com/user-attachments/assets/4c37f0b3-1917-47ed-8ac6-84cdb426d362)\n",
    "\n",
    "#### Cleaning Up Structure:\n",
    "![image](https://github.com/user-attachments/assets/6a2884c7-f264-477b-aeb6-91c0a7eaad55)"
   ]
  },
  {
   "cell_type": "markdown",
   "metadata": {},
   "source": [
    "### Outputs"
   ]
  },
  {
   "cell_type": "markdown",
   "metadata": {},
   "source": [
    "#### Task 1 - Output - Data Directory\n",
    "![Task 1 - Output A](https://github.com/user-attachments/assets/d0afd199-071c-4c39-8a09-77e4139b2c2e)"
   ]
  },
  {
   "cell_type": "markdown",
   "metadata": {},
   "source": [
    "#### Task 1 - Output - Timestamp & Weather Sub-Directory\n",
    "![Task 1 - Output B](https://github.com/user-attachments/assets/a81f2548-19f9-4066-8721-39350f232efe)"
   ]
  },
  {
   "cell_type": "markdown",
   "metadata": {},
   "source": [
    "### Folder Structure"
   ]
  },
  {
   "cell_type": "markdown",
   "metadata": {},
   "source": [
    "#### Before:\n",
    "\n",
    "![Folder Before](https://github.com/user-attachments/assets/81f30b50-57cf-4522-95dd-96ae431797fc)\n"
   ]
  },
  {
   "cell_type": "markdown",
   "metadata": {},
   "source": [
    "#### After:\n",
    "\n",
    "![image](https://github.com/user-attachments/assets/6daebf92-9db0-45e3-b267-a02ce20a22f2)\n",
    "\n",
    "Following review of the structure of the repository, I decided I did not need the \"Tasks\" or \"Project\" for the purpose of the assignment so removed them. <br>\n",
    "\n",
    "![image](https://github.com/user-attachments/assets/4123a16a-5ab8-4d5c-ae42-fdfb302d38b5)"
   ]
  },
  {
   "cell_type": "markdown",
   "metadata": {},
   "source": [
    "### Code<br>"
   ]
  },
  {
   "cell_type": "markdown",
   "metadata": {},
   "source": [
    "```\n",
    "mkdir data # To create the Data Directory at the root of the repository\n",
    "\n",
    "```\n",
    "\n",
    "```\n",
    "mkdir data/timestamps data/weather # To create the sub directories inside the data directory for the timestamps and weather folders.\n",
    "\n",
    "```\n",
    "\n",
    "\n",
    "```\n",
    "rm Tasks # Remove Tasks folder.\n",
    "rm Project # Remove Project folder.\n",
    "\n",
    "```"
   ]
  },
  {
   "cell_type": "markdown",
   "metadata": {},
   "source": [
    "### Code Explanation"
   ]
  },
  {
   "cell_type": "markdown",
   "metadata": {},
   "source": [
    "The mkdir command was used to make the data directory/ folder. The mkdir is a command used to make a directory in a file system.\n",
    "\n",
    "You first call the mkdir command and following this you input the name of the directory you want to make.\n",
    "\n",
    "To create the sub-directories, the mkdir command can be used with the name of the parent directory followed by a forward slash and the name of the sub directory.\n",
    "\n",
    "As the parent directory was already included, I did not need to use the -p flag to create the parent directory."
   ]
  },
  {
   "cell_type": "markdown",
   "metadata": {},
   "source": [
    "### References"
   ]
  },
  {
   "cell_type": "markdown",
   "metadata": {},
   "source": [
    "1. https://www.geeksforgeeks.org/mkdir-command-in-linux-with-examples/\n",
    "2. Class Notes, Computer Infrastructure , Ian McLoughlin,  Semester 1"
   ]
  },
  {
   "cell_type": "markdown",
   "metadata": {},
   "source": [
    "<h2 align=\"center\">Task Two - Timestamps </h1><a name=\"task-two\"></a>\n",
    "<p align=\"center\">\n",
    "  <img src=\"data:image/png;base64,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\" alt=\"Banking\">\n",
    "</p>"
   ]
  },
  {
   "cell_type": "markdown",
   "metadata": {},
   "source": [
    "### Task\n",
    "Navigate to the data/timestamps directory. Use the date command to output the current date and time, appending the output to a file named now.txt. Make sure to use the >> operator to append (not overwrite) the file. Repeat this step ten times, then use the more command to verify that now.txt has the expected content."
   ]
  },
  {
   "cell_type": "markdown",
   "metadata": {},
   "source": [
    "### Files Created\n",
    "now.txt"
   ]
  },
  {
   "cell_type": "markdown",
   "metadata": {},
   "source": [
    "### Inputs\n",
    "To navigate to the timestamps sub directory,  I used the below code:<br>"
   ]
  },
  {
   "cell_type": "markdown",
   "metadata": {},
   "source": [
    "#### Task 2 - Navigating to Timestamp Sub-Directory\n",
    "![image](https://github.com/user-attachments/assets/79154f23-65d1-4027-9f8f-5e6dbd97f7da)\n",
    "\n",
    "To create output the current date and time to the timestamp directory, I used the below command:<br>\n",
    "\n",
    "#### Task 2 - Creating Output to output current date and time.\n",
    "![image](https://github.com/user-attachments/assets/79347796-bc18-47c7-af97-b928aaa02531)\n",
    "\n",
    "#### Task 2 - Rerunning command ten times.\n",
    "![image](https://github.com/user-attachments/assets/6b5884ce-e788-4579-a2f5-00b3faa0248d)"
   ]
  },
  {
   "cell_type": "markdown",
   "metadata": {},
   "source": [
    "### Outputs"
   ]
  },
  {
   "cell_type": "markdown",
   "metadata": {},
   "source": [
    "#### Task 2 - Output - Current Date & Time\n",
    "![image](https://github.com/user-attachments/assets/5668f466-2581-4604-b610-0ced068b3184)"
   ]
  },
  {
   "cell_type": "markdown",
   "metadata": {},
   "source": [
    "### Folder Structure"
   ]
  },
  {
   "cell_type": "markdown",
   "metadata": {},
   "source": [
    "#### Before:\n",
    "\n",
    "![image](https://github.com/user-attachments/assets/49c9c9f8-12fa-488d-b1b7-ac7bf03f39e3)"
   ]
  },
  {
   "cell_type": "markdown",
   "metadata": {},
   "source": [
    "#### After:\n",
    "\n",
    "![image](https://github.com/user-attachments/assets/f336fd35-76d6-4fa7-b3d4-fd882290f5ed)"
   ]
  },
  {
   "cell_type": "markdown",
   "metadata": {},
   "source": [
    "### Code<br>\n",
    "```\n",
    "date >> now.txt # Using the date command to append the current date and time to the text file.\n",
    "\n",
    "```\n",
    "```\n",
    "touch test # Using the touch command to create a test file for the weather directory.\n",
    "\n",
    "```"
   ]
  },
  {
   "cell_type": "markdown",
   "metadata": {},
   "source": [
    "### Code Explanation\n",
    "The date command was to show the current date and time when the command was run. I used the >> operator to append the file as opposed to overwrite the file (>). \n",
    "\n",
    "After calling the date command and using the append operator, I then stated I wanted to append it to a text file called now (now.txt)\n",
    "\n",
    "I reran the command ten times to output 10 records to the text file showing the current date and time."
   ]
  },
  {
   "cell_type": "markdown",
   "metadata": {},
   "source": [
    "### References\n",
    "1. [https://www.geeksforgeeks.org/mkdir-command-in-linux-with-examples/](https://www.geeksforgeeks.org/date-command-linux-examples/)\n",
    "2. https://www.geeksforgeeks.org/how-to-create-a-text-file-using-the-command-line-in-linux/\n",
    "3. Class Notes, Computer Infrastructure , Ian McLoughlin,  Semester 1"
   ]
  }
 ],
 "metadata": {
  "kernelspec": {
   "display_name": "Python 3",
   "language": "python",
   "name": "python3"
  },
  "language_info": {
   "codemirror_mode": {
    "name": "ipython",
    "version": 3
   },
   "file_extension": ".py",
   "mimetype": "text/x-python",
   "name": "python",
   "nbconvert_exporter": "python",
   "pygments_lexer": "ipython3",
   "version": "3.12.1"
  }
 },
 "nbformat": 4,
 "nbformat_minor": 2
}
